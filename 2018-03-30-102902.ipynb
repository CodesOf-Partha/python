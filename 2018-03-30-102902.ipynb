{
 "cells": [
  {
   "cell_type": "code",
   "execution_count": 1,
   "metadata": {
    "collapsed": false
   },
   "outputs": [
    {
     "name": "stdout",
     "output_type": "stream",
     "text": [
      "Hello\n"
     ]
    }
   ],
   "source": [
    "print \"Hello\""
   ]
  },
  {
   "cell_type": "code",
   "execution_count": 2,
   "metadata": {
    "collapsed": false
   },
   "outputs": [
    {
     "name": "stdout",
     "output_type": "stream",
     "text": [
      "30\n"
     ]
    }
   ],
   "source": [
    "print 10+20"
   ]
  },
  {
   "cell_type": "code",
   "execution_count": 4,
   "metadata": {
    "collapsed": false
   },
   "outputs": [
   ],
   "source": [
    "#declaring variables\n",
    "a=5\n",
    "b=5.5\n",
    "c= True\n"
   ]
  },
  {
   "cell_type": "code",
   "execution_count": 5,
   "metadata": {
    "collapsed": false
   },
   "outputs": [
    {
     "name": "stdout",
     "output_type": "stream",
     "text": [
      "5\n",
      "5.5\n",
      "True\n"
     ]
    }
   ],
   "source": [
    "print(a)\n",
    "print(b)\n",
    "print(c)"
   ]
  },
  {
   "cell_type": "code",
   "execution_count": 10,
   "metadata": {
    "collapsed": false
   },
   "outputs": [
    {
     "data": {
      "text/plain": [
       "5"
      ]
     },
     "execution_count": 10,
     "metadata": {
     },
     "output_type": "execute_result"
    }
   ],
   "source": [
    "def a():\n",
    "    return 5\n",
    "a()"
   ]
  },
  {
   "cell_type": "code",
   "execution_count": 15,
   "metadata": {
    "collapsed": false
   },
   "outputs": [
    {
     "name": "stdout",
     "output_type": "stream",
     "text": [
      "2.0\n"
     ]
    }
   ],
   "source": [
    "import math\n",
    "d = math.sqrt(4)\n",
    "a = 15%2\n",
    "b = 10**2\n",
    "c = 4 ** 1/2.0\n",
    "print c\n"
   ]
  },
  {
   "cell_type": "code",
   "execution_count": 21,
   "metadata": {
    "collapsed": false
   },
   "outputs": [
    {
     "name": "stdout",
     "output_type": "stream",
     "text": [
      "o\n",
      "hello\n",
      "5\n"
     ]
    }
   ],
   "source": [
    "a = \"Hello\"\n",
    "print a[-1]\n",
    "print a.lower()\n",
    "print len(a)"
   ]
  },
  {
   "cell_type": "code",
   "execution_count": 25,
   "metadata": {
    "collapsed": false
   },
   "outputs": [
    {
     "name": "stdout",
     "output_type": "stream",
     "text": [
      "The value of PI is  3.14\n",
      "The value of PI is 3.14\n"
     ]
    }
   ],
   "source": [
    "pi = 3.14\n",
    "print\"The value of PI is \",pi\n",
    "print\"The value of PI is \"+str(pi)"
   ]
  },
  {
   "cell_type": "code",
   "execution_count": 27,
   "metadata": {
    "collapsed": false
   },
   "outputs": [
    {
     "name": "stdout",
     "output_type": "stream",
     "text": [
      "I am from coimbatore \n",
      "I am from coimbatore  I am working in Bangalore \n"
     ]
    }
   ],
   "source": [
    "a= 'coimbatore '\n",
    "b = 'Bangalore'\n",
    "print 'I am from ' + a \n",
    "print \"I am from %s I am working in %s \" %(a,b)"
   ]
  },
  {
   "cell_type": "code",
   "execution_count": 28,
   "metadata": {
    "cocalc": {
     "outputs": {
      "0": {
       "name": "input",
       "opts": {
        "password": false,
        "prompt": "Enter your name: "
       },
       "output_type": "stream",
       "value": "partha"
      },
      "1": {
       "name": "input",
       "opts": {
        "password": false,
        "prompt": "Enter your age: "
       },
       "output_type": "stream",
       "value": "19"
      },
      "2": {
       "name": "input",
       "opts": {
        "password": false,
        "prompt": "Enter your city: "
       },
       "output_type": "stream",
       "value": "coimbatore"
      }
     }
    },
    "collapsed": false
   },
   "outputs": [
    {
     "name": "stdout",
     "output_type": "stream",
     "text": "Enter your name:  partha"
    },
    {
     "name": "stdout",
     "output_type": "stream",
     "text": "Enter your age:  19"
    },
    {
     "name": "stdout",
     "output_type": "stream",
     "text": "Enter your city:  coimbatore"
    },
    {
     "name": "stdout",
     "output_type": "stream",
     "text": [
      "I am from partha , My age is 19 , My city is coimbatore  \n"
     ]
    }
   ],
   "source": [
    "i = raw_input(\"Enter your name: \")\n",
    "age = input(\"Enter your age: \")\n",
    "city = raw_input(\"Enter your city: \")\n",
    "print \"I am from %s , My age is %d , My city is %s  \" %(i,age,city)"
   ]
  },
  {
   "cell_type": "code",
   "execution_count": 29,
   "metadata": {
    "collapsed": false
   },
   "outputs": [
    {
     "name": "stdout",
     "output_type": "stream",
     "text": [
      "Time in seconds since the epoch: 1522388277.35\n",
      "Current date and time:  2018-03-30 05:37:57.346161\n",
      "Or like this:  18-03-30-05-37\n",
      "Current year:  2018\n",
      "Month of year:  March\n",
      "Week number of the year:  13\n",
      "Weekday of the week:  5\n",
      "Day of year:  089\n",
      "Day of the month :  30\n",
      "Day of week:  Friday\n"
     ]
    }
   ],
   "source": [
    "import time\n",
    "import datetime\n",
    "\n",
    "print \"Time in seconds since the epoch: %s\" %time.time()\n",
    "print \"Current date and time: \" , datetime.datetime.now()\n",
    "print \"Or like this: \" ,datetime.datetime.now().strftime(\"%y-%m-%d-%H-%M\")\n",
    "\n",
    "\n",
    "print \"Current year: \", datetime.date.today().strftime(\"%Y\")\n",
    "print \"Month of year: \", datetime.date.today().strftime(\"%B\")\n",
    "print \"Week number of the year: \", datetime.date.today().strftime(\"%W\")\n",
    "print \"Weekday of the week: \", datetime.date.today().strftime(\"%w\")\n",
    "print \"Day of year: \", datetime.date.today().strftime(\"%j\")\n",
    "print \"Day of the month : \", datetime.date.today().strftime(\"%d\")\n",
    "print \"Day of week: \", datetime.date.today().strftime(\"%A\")"
   ]
  },
  {
   "cell_type": "code",
   "execution_count": 32,
   "metadata": {
    "collapsed": false
   },
   "outputs": [
    {
     "ename": "AttributeError",
     "evalue": "type object 'datetime.datetime' has no attribute 'datetime'",
     "output_type": "error",
     "traceback": [
      "\u001b[0;31m\u001b[0m",
      "\u001b[0;31mAttributeError\u001b[0mTraceback (most recent call last)",
      "\u001b[0;32m<ipython-input-32-a02ce1dde952>\u001b[0m in \u001b[0;36m<module>\u001b[0;34m()\u001b[0m\n\u001b[1;32m      1\u001b[0m \u001b[0;32mfrom\u001b[0m \u001b[0mdatetime\u001b[0m \u001b[0;32mimport\u001b[0m \u001b[0mdatetime\u001b[0m\u001b[0;34m\u001b[0m\u001b[0m\n\u001b[0;32m----> 2\u001b[0;31m \u001b[0;32mprint\u001b[0m \u001b[0mdatetime\u001b[0m\u001b[0;34m.\u001b[0m\u001b[0mdatetime\u001b[0m\u001b[0;34m.\u001b[0m\u001b[0mtoday\u001b[0m\u001b[0;34m(\u001b[0m\u001b[0;34m)\u001b[0m\u001b[0;34m\u001b[0m\u001b[0m\n\u001b[0m",
      "\u001b[0;31mAttributeError\u001b[0m: type object 'datetime.datetime' has no attribute 'datetime'"
     ]
    }
   ],
   "source": [
    "from datetime import datetime\n",
    "now = datetime.now()\n",
    "print now\n",
    "print now.date\n",
    "print now."
   ]
  },
  {
   "cell_type": "code",
   "execution_count": 43,
   "metadata": {
    "cocalc": {
     "outputs": {
      "0": {
       "name": "input",
       "opts": {
        "password": false,
        "prompt": "Enter a number: "
       },
       "output_type": "stream",
       "value": "10"
      }
     }
    },
    "collapsed": false
   },
   "outputs": [
    {
     "name": "stdout",
     "output_type": "stream",
     "text": "Enter a number:  10"
    },
    {
     "name": "stdout",
     "output_type": "stream",
     "text": [
      "1\n",
      "0\n"
     ]
    }
   ],
   "source": [
    "def lessthan_or_equalto_10(x):\n",
    "    if x<10:\n",
    "        print -1\n",
    "    else:\n",
    "        print 1\n",
    "    if x == 10:\n",
    "        print 0\n",
    "x=input(\"Enter a number: \")\n",
    "lessthan_or_equalto_10(x)"
   ]
  },
  {
   "cell_type": "code",
   "execution_count": 44,
   "metadata": {
    "collapsed": false
   },
   "outputs": [
    {
     "name": "stdout",
     "output_type": "stream",
     "text": [
      "(13, -10)\n"
     ]
    }
   ],
   "source": [
    "def smallnum(*arg):\n",
    "    return max(arg),min(arg)\n",
    "print smallnum(-10,0,12,13)"
   ]
  },
  {
   "cell_type": "code",
   "execution_count": 49,
   "metadata": {
    "collapsed": false
   },
   "outputs": [
    {
     "name": "stdout",
     "output_type": "stream",
     "text": [
      "cat\n",
      "first animal name dog\n",
      "['tiger', 'dog', 'cat', 'gangaroo', 'tiger']\n"
     ]
    }
   ],
   "source": [
    "list1 = ['dog','cat','gangaroo','tiger'];\n",
    "print list1[1]\n",
    "print \"first animal name \"+ list1[0]\n",
    "a=list1.index('dog')\n",
    "list1.insert(a,'tiger')\n",
    "print list1"
   ]
  },
  {
   "cell_type": "code",
   "execution_count": 53,
   "metadata": {
    "collapsed": false
   },
   "outputs": [
    {
     "name": "stdout",
     "output_type": "stream",
     "text": [
      "ashish\n"
     ]
    }
   ],
   "source": [
    "dict = {101:\"ashish\", 102:\" bhuvan\", 103:\" catherin\"}\n",
    "print dict[101]"
   ]
  },
  {
   "cell_type": "code",
   "execution_count": 55,
   "metadata": {
    "collapsed": false
   },
   "outputs": [
    {
     "name": "stdout",
     "output_type": "stream",
     "text": [
      "[1, 2, 3, 4, 5, 7, 6]\n"
     ]
    }
   ],
   "source": [
    "list1=[1,2,3,4,5]\n",
    "list1.append(7)\n",
    "list2=[6]\n",
    "print list1+list2"
   ]
  },
  {
   "cell_type": "code",
   "execution_count": 60,
   "metadata": {
    "collapsed": false
   },
   "outputs": [
    {
     "name": "stdout",
     "output_type": "stream",
     "text": [
      "{'emailid': 'rvparthasarathi@gmail.com', 'age': 19, 'Name': 'parthasarathi'}\n",
      "['emailid', 'age', 'Name']\n",
      "[('emailid', 'rvparthasarathi@gmail.com'), ('age', 19), ('Name', 'parthasarathi')]\n",
      "['rvparthasarathi@gmail.com', 19, 'parthasarathi']\n"
     ]
    }
   ],
   "source": [
    "dict = {'Name':\"parthasarathi\", 'age': 19, \"emailid\":\"rvparthasarathi@gmail.com\"}\n",
    "print dict\n",
    "print dict.keys()\n",
    "print dict.items()\n",
    "print dict.values()"
   ]
  },
  {
   "cell_type": "code",
   "execution_count": 0,
   "metadata": {
    "collapsed": false
   },
   "outputs": [
   ],
   "source": [
   ]
  }
 ],
 "metadata": {
  "kernelspec": {
   "display_name": "Python 2 (Ubuntu Linux)",
   "language": "python",
   "name": "python2-ubuntu"
  },
  "language_info": {
   "codemirror_mode": {
    "name": "ipython",
    "version": 2
   },
   "file_extension": ".py",
   "mimetype": "text/x-python",
   "name": "python",
   "nbconvert_exporter": "python",
   "pygments_lexer": "ipython2",
   "version": "2.7.12"
  }
 },
 "nbformat": 4,
 "nbformat_minor": 0
}